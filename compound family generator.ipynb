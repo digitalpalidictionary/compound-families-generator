{
 "cells": [
  {
   "cell_type": "markdown",
   "metadata": {},
   "source": [
    "compound family generator"
   ]
  },
  {
   "cell_type": "code",
   "execution_count": 1,
   "metadata": {},
   "outputs": [],
   "source": [
    "#!/usr/bin/env python3.10\n",
    "# coding: utf-8\n",
    "\n",
    "import re\n",
    "import pandas as pd"
   ]
  },
  {
   "cell_type": "markdown",
   "metadata": {},
   "source": [
    "import dpd csv as dataframe"
   ]
  },
  {
   "cell_type": "code",
   "execution_count": 2,
   "metadata": {},
   "outputs": [],
   "source": [
    "df = pd.read_csv (\"/home/bhikkhu/Bodhirasa/Dropbox/dpd/csvs/dpd-full.csv\", sep=\"\\t\", dtype=str)\n",
    "df = df.fillna(\"\") \n",
    "df_length = df.shape[0]"
   ]
  },
  {
   "cell_type": "markdown",
   "metadata": {},
   "source": [
    "extract compound family list"
   ]
  },
  {
   "cell_type": "code",
   "execution_count": 7,
   "metadata": {},
   "outputs": [],
   "source": [
    "test1 = df[\"Family2\"] != \"\"\n",
    "test2 = df[\"Meaning IN CONTEXT\"] != \"\"\n",
    "test3 = df[\"Pāli Root\"] == \"\"\n",
    "test4 = df[\"Metadata\"] != \"yes\"\n",
    "filter = test1 & test2 & test3 & test4\n",
    "compound_family_df = df.loc[filter, [\"Family2\"]]\n",
    "\n",
    "#make compound family list\n",
    "compound_family_list = []\n",
    "compound_family_df[\"Family2\"].str.split()\n",
    "compound_family_list = compound_family_df[\"Family2\"].to_list()\n",
    "\n",
    "#flatten list\n",
    "compound_family_list = [item for sublist in compound_family_list for item in sublist.split(\" \")]\n",
    "with open (\"compound_family_list.csv\", \"w\") as write_list:\n",
    "\tfor item in compound_family_list:\n",
    "\t\twrite_list.write(item + \"\\n\")\n",
    "\n",
    "# import compound_family_list as dataframe\n",
    "compound_family_list = pd.DataFrame(compound_family_list)\n",
    "\n",
    "#drop dupes and sort\n",
    "compound_family_list.drop_duplicates(keep=\"first\", inplace=True)\n",
    "compound_family_list.sort_values([0], ascending=True, inplace=True)\n",
    "compound_family_list.reset_index(drop=True, inplace=True)\n",
    "\n",
    "\n"
   ]
  },
  {
   "cell_type": "code",
   "execution_count": 4,
   "metadata": {},
   "outputs": [
    {
     "name": "stdout",
     "output_type": "stream",
     "text": [
      "0 a\n",
      "250 anuvattī\n",
      "500 bhogī\n",
      "750 dhi\n",
      "1000 heṭṭhā\n",
      "1250 kaṇha\n",
      "1500 lābha\n",
      "1750 nigamana\n",
      "2000 pamodita\n",
      "2250 paṭisaṃvedī\n",
      "2500 sadisa\n",
      "2750 saṅgāma\n",
      "3000 taṃ\n",
      "3250 ussukka\n",
      "3500 viruhana\n",
      "3750 ājīva\n"
     ]
    }
   ],
   "source": [
    "# row count\n",
    "compound_family_count = compound_family_list.shape[0]\n",
    "\n",
    "for row in range (compound_family_count): #compound_family_count\n",
    "    compound_family =  compound_family_list.iloc[row,0]\n",
    "\n",
    "    if row % 250 == 0:\n",
    "        print(f\"{row} {compound_family}\")\n",
    "    \n",
    "    with open (f\"output/{compound_family}.html\", 'w', encoding= \"'utf-8\") as html:\n",
    "\n",
    "        test1 = df[\"Family2\"] != \"\"\n",
    "        test2 = df[\"Family2\"].str.contains(rf\"\\b{compound_family}\\b\")\n",
    "        test3 = df[\"Meaning IN CONTEXT\"] != \"\"\n",
    "        test4 = df[\"Pāli Root\"] == \"\"\n",
    "        \n",
    "        filter = test1 & test2 & test3 & test4\n",
    "        compound_family_df = df.loc[filter, [\"Pāli1\", \"POS\", \"Meaning IN CONTEXT\"]]\n",
    "\n",
    "        # html conversion\n",
    "        length = compound_family_df.shape[0]\n",
    "      \n",
    "        html.write(f\"\"\"<table class= \"table3\"><tbody>\"\"\")\n",
    "\n",
    "        for row in range(length):\n",
    "            cf_pali = compound_family_df.iloc[row, 0]\n",
    "            cf_pos = compound_family_df.iloc[row, 1]\n",
    "            cf_english = compound_family_df.iloc[row, 2]\n",
    "\t\t\t\t# print(f\"{row_sf}\\t{sf_pali}\\t({sf_pos})  \\t{sf_english}\")\n",
    "\n",
    "            html.write(f\"<tr><th>{cf_pali}</th>\")\n",
    "            html.write(f\"<td>{cf_pos}</td>\")\n",
    "            html.write(f\"<td>{cf_english}</td></tr>\")\n",
    "        html.write(f\"</tbody></table>\")"
   ]
  },
  {
   "cell_type": "code",
   "execution_count": null,
   "metadata": {},
   "outputs": [],
   "source": []
  }
 ],
 "metadata": {
  "interpreter": {
   "hash": "8a94588eda9d64d9e9a351ab8144e55b1fabf5113b54e67dd26a8c27df0381b3"
  },
  "kernelspec": {
   "display_name": "Python 3.10.1 64-bit",
   "language": "python",
   "name": "python3"
  },
  "language_info": {
   "codemirror_mode": {
    "name": "ipython",
    "version": 3
   },
   "file_extension": ".py",
   "mimetype": "text/x-python",
   "name": "python",
   "nbconvert_exporter": "python",
   "pygments_lexer": "ipython3",
   "version": "3.10.1"
  },
  "orig_nbformat": 4
 },
 "nbformat": 4,
 "nbformat_minor": 2
}
