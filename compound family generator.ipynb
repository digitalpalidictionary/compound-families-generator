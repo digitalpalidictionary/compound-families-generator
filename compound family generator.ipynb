{
 "cells": [
  {
   "cell_type": "markdown",
   "metadata": {},
   "source": [
    "compound family generator"
   ]
  },
  {
   "cell_type": "code",
   "execution_count": 1,
   "metadata": {},
   "outputs": [],
   "source": [
    "import re\n",
    "import pandas as pd\n",
    "\n",
    "df = pd.read_csv (\"/home/bhikkhu/Bodhirasa/Dropbox/dpd/csvs/dpd-full.csv\", sep=\"\\t\", dtype=str)\n",
    "df = df.fillna(\"\") \n",
    "df_length = df.shape[0]"
   ]
  },
  {
   "cell_type": "markdown",
   "metadata": {},
   "source": [
    "extract compound family names"
   ]
  },
  {
   "cell_type": "code",
   "execution_count": 2,
   "metadata": {},
   "outputs": [
    {
     "name": "stdout",
     "output_type": "stream",
     "text": [
      "~~~~~~~~~~~~~~~~~~~~~~~~~~~~~~~~~~~~~~~~\n",
      "extracting compound family names\n"
     ]
    }
   ],
   "source": [
    "print(\"~\"*40)\n",
    "print(\"extracting compound family names\")\n",
    "\n",
    "test1 = df[\"Family2\"] != \"\"\n",
    "test2 = df[\"Meaning IN CONTEXT\"] != \"\"\n",
    "test3 = df[\"Pāli Root\"] == \"\"\n",
    "test4 = df[\"Metadata\"] != \"yes\"\n",
    "filter = test1 & test2 & test3 & test4\n",
    "compound_family_df = df.loc[filter, [\"Family2\"]]\n",
    "\n",
    "#make compound family list\n",
    "compound_family_list = []\n",
    "compound_family_df[\"Family2\"].str.split()\n",
    "compound_family_list = compound_family_df[\"Family2\"].to_list()\n",
    "\n",
    "#flatten list\n",
    "compound_family_list = [item for sublist in compound_family_list for item in sublist.split(\" \")]\n",
    "with open (\"compound_family_list.csv\", \"w\") as write_list:\n",
    "\tfor item in compound_family_list:\n",
    "\t\twrite_list.write(item + \"\\n\")\n",
    "\n",
    "# import compound_family_list as dataframe\n",
    "compound_family_list = pd.DataFrame(compound_family_list)\n",
    "\n",
    "#drop dupes and sort\n",
    "compound_family_list.drop_duplicates(keep=\"first\", inplace=True)\n",
    "compound_family_list.sort_values([0], ascending=True, inplace=True)\n",
    "compound_family_list.reset_index(drop=True, inplace=True)"
   ]
  },
  {
   "cell_type": "code",
   "execution_count": 7,
   "metadata": {},
   "outputs": [
    {
     "name": "stdout",
     "output_type": "stream",
     "text": [
      "~~~~~~~~~~~~~~~~~~~~~~~~~~~~~~~~~~~~~~~~\n",
      "generating compound family list\n",
      "~~~~~~~~~~~~~~~~~~~~~~~~~~~~~~~~~~~~~~~~\n",
      "0/3905\ta\n"
     ]
    },
    {
     "name": "stderr",
     "output_type": "stream",
     "text": [
      "/tmp/ipykernel_819/3489558904.py:13: FutureWarning: The default value of regex will change from True to False in a future version.\n",
      "  df_reduced['Pāli3'] = df_reduced['Pāli1'].str.replace(\" \\d*\", \"\")\n"
     ]
    },
    {
     "name": "stdout",
     "output_type": "stream",
     "text": [
      "500/3905\tbhiyyo\n",
      "1000/3905\thattha\n",
      "1500/3905\tlohita\n",
      "2000/3905\tpallaṅka\n",
      "2500/3905\tsacca\n",
      "3000/3905\ttasmiṃ\n",
      "3500/3905\tvipassanā\n"
     ]
    }
   ],
   "source": [
    "print(\"~\"*40)\n",
    "print(\"generating compound family list\")\n",
    "print(\"~\"*40)\n",
    "\n",
    "\n",
    "\n",
    "test1 = df[\"Family2\"] != \"\"\n",
    "test2 = df[\"Meaning IN CONTEXT\"] != \"\"\n",
    "test3 = df[\"Pāli Root\"] == \"\"\n",
    "test4 = df[\"Metadata\"] != \"yes\"\n",
    "filter = test1 & test2 & test3 & test4\n",
    "df_reduced = df[filter]\n",
    "df_reduced['Pāli3'] = df_reduced['Pāli1'].str.replace(\" \\d*\", \"\")\n",
    "df_length = df_reduced.shape[0]\n",
    "\n",
    "\n",
    "# row count\n",
    "compound_family_count = compound_family_list.shape[0]\n",
    "\n",
    "for row in range (compound_family_count): #compound_family_count\n",
    "    compound_family =  compound_family_list.iloc[row,0]\n",
    "    \n",
    "    test1 = df_reduced[\"Family2\"].str.contains(rf\"\\b{compound_family}\\b\")\n",
    "    test2 = df_reduced[\"Pāli3\"] != compound_family\n",
    "    filter = test1 & test2\n",
    "    df_filtered = df_reduced.loc[filter, [\"Pāli1\", \"POS\", \"Meaning IN CONTEXT\"]]\n",
    "\n",
    "    if row % 500 == 0:\n",
    "        print(f\"{row}/{compound_family_count}\\t{compound_family}\")\n",
    "\n",
    "    # html conversion\n",
    "\n",
    "    html = \"\"\n",
    "    length = df_filtered.shape[0]\n",
    "    \n",
    "    html += f\"\"\"<table><tbody>\"\"\"\n",
    "\n",
    "    for row in range(length):\n",
    "        cf_pali = df_filtered.iloc[row, 0]\n",
    "        cf_pos = df_filtered.iloc[row, 1]\n",
    "        cf_english = df_filtered.iloc[row, 2]\n",
    "    \n",
    "        html += f\"<tr><th>{cf_pali}</th>\"\n",
    "        html += f\"<td>{cf_pos}</td>\"\n",
    "        html += f\"<td>{cf_english}</td></tr>\"\n",
    "    html += f\"</tbody>\"\n",
    "\n",
    "    with open (f\"output/{compound_family}.html\", 'w', encoding= \"'utf-8\") as html_file:\n",
    "        html_file.write(html)\n"
   ]
  }
 ],
 "metadata": {
  "interpreter": {
   "hash": "8a94588eda9d64d9e9a351ab8144e55b1fabf5113b54e67dd26a8c27df0381b3"
  },
  "kernelspec": {
   "display_name": "Python 3.10.1 64-bit",
   "language": "python",
   "name": "python3"
  },
  "language_info": {
   "codemirror_mode": {
    "name": "ipython",
    "version": 3
   },
   "file_extension": ".py",
   "mimetype": "text/x-python",
   "name": "python",
   "nbconvert_exporter": "python",
   "pygments_lexer": "ipython3",
   "version": "3.10.1"
  },
  "orig_nbformat": 4
 },
 "nbformat": 4,
 "nbformat_minor": 2
}
